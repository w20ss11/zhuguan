{
 "cells": [
  {
   "cell_type": "code",
   "execution_count": 1,
   "metadata": {},
   "outputs": [
    {
     "name": "stdout",
     "output_type": "stream",
     "text": [
      "              开课单位 抽查的课程总门数 试卷命题课程门数 大型作业课程门数 教学班数 任课教师数\n",
      "0        通信与信息工程学院        2        2        0    2     2\n",
      "1   光电工程学院/国际半导体学院        2        2        0    2     2\n",
      "2           经济管理学院        2        2        0    2     2\n",
      "3       计算机科学与技术学院        3        3        0    3     3\n",
      "4            外国语学院        3        3        0    3     3\n",
      "5           生物信息学院        2        2        0    2     2\n",
      "6     网络空间安全与信息法学院        3        3        0    3     3\n",
      "7            自动化学院        2        2        0    2     2\n",
      "8             体育学院        2        2        0    2     2\n",
      "9          马克思主义学院        2        1        1    2     2\n",
      "10             理学院        2        2        0    2     2\n",
      "11          传媒艺术学院        2        2        0    2     2\n",
      "12          软件工程学院        2        1        1    2     2\n",
      "13        先进制造工程学院        2        2        0    2     2\n",
      "14            国际学院        2        2        0    2     2\n",
      "15        创新创业教育学院        1        1        0    1     1\n"
     ]
    }
   ],
   "source": [
    "import pandas as pd\n",
    "quedian = pd.read_csv('./quedian.csv',encoding='ANSI')\n",
    "# print(quedian)\n",
    "df = pd.DataFrame(columns=(['开课单位','抽查的课程总门数','试卷命题课程门数','大型作业课程门数','教学班数','任课教师数']))\n",
    "df['开课单位'] = ['通信与信息工程学院', '光电工程学院/国际半导体学院', '经济管理学院', '计算机科学与技术学院', '外国语学院', '生物信息学院',\n",
    "              '网络空间安全与信息法学院', '自动化学院', '体育学院', '马克思主义学院', '理学院', '传媒艺术学院', '软件工程学院',\n",
    "              '先进制造工程学院', '国际学院', '创新创业教育学院']\n",
    "# print(df)\n",
    "li = set(list(df['开课单位']))\n",
    "\n",
    "for item in li:\n",
    "    temp_df = quedian[quedian['院系']==item]\n",
    "    #temp_df.shape[0]\n",
    "    index = df[df['开课单位']==item].index[0] #!!!!!!!!!!!\n",
    "    \n",
    "    df.at[index,'抽查的课程总门数'] = temp_df.shape[0]\n",
    "    df.at[index,'试卷命题课程门数'] = temp_df.shape[0]\n",
    "    df.at[index,'大型作业课程门数'] = 0\n",
    "    \n",
    "    if (item == '软件工程学院') or (item == '马克思主义学院'):\n",
    "        df.at[index,'试卷命题课程门数'] = temp_df.shape[0]-1\n",
    "        df.at[index,'大型作业课程门数'] = 1\n",
    "    \n",
    "    \n",
    "#     classes = list(temp_df['班级'])\n",
    "#     sums = 0\n",
    "#     cls = []\n",
    "#     for ite in classes:\n",
    "#         fenhao_list = ite.split(';')\n",
    "#         for it in fenhao_list:\n",
    "#             cls.append(it.split('|')[0])\n",
    "#     print(set(cls),item)\n",
    "#     sums = sums + len(set(cls))\n",
    "    df.at[index,'教学班数'] = temp_df.shape[0]\n",
    "    \n",
    "    df.at[index,'任课教师数'] = temp_df.shape[0]\n",
    "print(df)\n",
    "df.to_csv('biao1.csv',encoding='ANSI')"
   ]
  },
  {
   "cell_type": "code",
   "execution_count": 7,
   "metadata": {},
   "outputs": [],
   "source": [
    "import pandas as pd\n",
    "fenshu = pd.read_csv('./fenshu.csv',encoding='ANSI')\n",
    "# print(quedian)\n",
    "df = pd.DataFrame(columns=(['开课单位','分数1','分数2','分数3','分数4','分数5']))\n",
    "df['开课单位'] = ['通信与信息工程学院', '光电工程学院/国际半导体学院', '经济管理学院', '计算机科学与技术学院', '外国语学院', '生物信息学院',\n",
    "              '网络空间安全与信息法学院', '自动化学院', '体育学院', '马克思主义学院', '理学院', '传媒艺术学院', '软件工程学院',\n",
    "              '先进制造工程学院', '国际学院', '创新创业教育学院']\n",
    "li = set(list(df['开课单位']))\n",
    "for item in li:\n",
    "    temp_df = fenshu[fenshu['院系']==item]\n",
    "    #temp_df.shape[0]\n",
    "    index = df[df['开课单位']==item].index[0] #!!!!!!!!!!!\n",
    "    df.at[index,'分数1'] = temp_df['得分1'].mean()\n",
    "    df.at[index,'分数2'] = temp_df['得分2'].mean()\n",
    "    df.at[index,'分数3'] = temp_df['得分3'].mean()\n",
    "    df.at[index,'分数4'] = temp_df['得分4'].mean()\n",
    "    df.at[index,'分数5'] = temp_df['平均分'].mean()\n",
    "df.to_csv('fenshu_res.csv',encoding='ANSI')"
   ]
  },
  {
   "cell_type": "code",
   "execution_count": 1,
   "metadata": {},
   "outputs": [
    {
     "data": {
      "text/plain": [
       "83.5546875"
      ]
     },
     "execution_count": 1,
     "metadata": {},
     "output_type": "execute_result"
    }
   ],
   "source": [
    "(91.5625+92.65625+80+70)/4"
   ]
  },
  {
   "cell_type": "code",
   "execution_count": null,
   "metadata": {},
   "outputs": [],
   "source": []
  }
 ],
 "metadata": {
  "kernelspec": {
   "display_name": "Python 3",
   "language": "python",
   "name": "python3"
  },
  "language_info": {
   "codemirror_mode": {
    "name": "ipython",
    "version": 3
   },
   "file_extension": ".py",
   "mimetype": "text/x-python",
   "name": "python",
   "nbconvert_exporter": "python",
   "pygments_lexer": "ipython3",
   "version": "3.6.7"
  }
 },
 "nbformat": 4,
 "nbformat_minor": 2
}
