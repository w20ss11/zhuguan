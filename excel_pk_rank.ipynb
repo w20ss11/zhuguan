{
 "cells": [
  {
   "cell_type": "code",
   "execution_count": 6,
   "metadata": {
    "collapsed": true
   },
   "outputs": [],
   "source": [
    "import pandas as pd"
   ]
  },
  {
   "cell_type": "code",
   "execution_count": 16,
   "metadata": {},
   "outputs": [
    {
     "name": "stdout",
     "output_type": "stream",
     "text": [
      "         xuehao name    grade  rank\n",
      "93   S160131166   未平   96.792   342\n",
      "98   S160101006  金潇潇   97.049   337\n",
      "130  S160131133  任浩良   98.571   305\n",
      "201  S160101138  吴金君  100.499   234\n",
      "218  S160101130  王沙沙  100.972   217\n",
      "233  S160101008   李勇  101.136   202\n",
      "252  S160101011   王阳  101.520   183\n",
      "262  S160131001  耿小龙  101.819   173\n",
      "265  S160101060  蒋朋纯  101.961   170\n",
      "286  S160131002  何艾琳  102.242   149\n",
      "318  S160131065  康庆飞  103.026   117\n",
      "336  S160131003  林艺馨  103.445    99\n",
      "353  S160131022  从海峰  104.045    82\n",
      "405  S160101033  高罗莹  106.707    30\n",
      "425  S160101010  王烟濛  108.683    10\n"
     ]
    }
   ],
   "source": [
    "df = pd.read_excel(\"d://xx.xlsx\")\n",
    "list = [\"王沙沙\",\"高罗莹\",\"未平\",\"金潇潇\",\"李勇\",\"王烟濛\",\"何艾琳\",\"康庆飞\",\"从海峰\",\"蒋朋纯\",\"李志豪\",\"王阳\",\"林艺馨\",\"耿小龙\",\"任浩良\",\"吴金君\"]\n",
    "print(df[df.name.isin(list)])"
   ]
  },
  {
   "cell_type": "code",
   "execution_count": null,
   "metadata": {
    "collapsed": true
   },
   "outputs": [],
   "source": []
  }
 ],
 "metadata": {
  "kernelspec": {
   "display_name": "Python 3",
   "language": "python",
   "name": "python3"
  },
  "language_info": {
   "codemirror_mode": {
    "name": "ipython",
    "version": 3
   },
   "file_extension": ".py",
   "mimetype": "text/x-python",
   "name": "python",
   "nbconvert_exporter": "python",
   "pygments_lexer": "ipython3",
   "version": "3.5.3"
  }
 },
 "nbformat": 4,
 "nbformat_minor": 2
}
