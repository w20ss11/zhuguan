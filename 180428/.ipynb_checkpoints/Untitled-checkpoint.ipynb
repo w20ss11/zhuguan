{
 "cells": [
  {
   "cell_type": "code",
   "execution_count": 1,
   "metadata": {},
   "outputs": [],
   "source": []
  },
  {
   "cell_type": "code",
   "execution_count": 3,
   "metadata": {
    "scrolled": false
   },
   "outputs": [
    {
     "name": "stdout",
     "output_type": "stream",
     "text": [
      "0     AB卷四大题的第1小题相同，分值14分。正考题A卷第一大题的有两个3小题，第二个3小题应该是...\n",
      "1                               未提交补考卷（B卷）没有补考学生，未提交B卷。\n",
      "2     缺试卷评阅记录表试卷未按照“教务在线”生成的学生成绩单上的学生名单顺序整理。题首得分框第二大...\n",
      "3     第二大题题首得分20，但是卷首的得分框里填写的是10分。所有大题的分数均写在题首右边。第三大...\n",
      "4     改革课程，提交了课程考试考试方案和经过教务处同意的申请，学生的考试成绩构成与方案一致。改革课...\n",
      "5     教学档案提供了一份期末成绩构成说明，课程总结和教学大纲均以工程教育认证的模板填写，均未包含成...\n",
      "6                                     课程总结没有以卷面成绩进行试卷分析\n",
      "7                 否（题首未登得分，部分得分登在答题纸上）课程总结没有以卷面成绩进行试卷分析\n",
      "8                1.缺过程考核表否（总分分数有修改无签字）课程总结没有以卷面成绩进行试卷分析\n",
      "9                                     课程总结没有以卷面成绩进行试卷分析\n",
      "10                                    课程总结没有以卷面成绩进行试卷分析\n",
      "11                            1.试卷评阅记录表填写不完整（成绩复核人没有签字）\n",
      "12    未提交：B卷参考答案及评分标准；考勤记录;补考卷（答卷或空白卷均可）。成绩计算方法课程名《现...\n",
      "13    试卷袋封面上的应考人数（91人）与成绩单中的总人数（92人）不一致。试卷“评阅人”栏空白1课...\n",
      "14    未提交：B卷参考答案及评分标准；补考卷（答卷或空白卷均可）。试卷评阅记录表中“考试时间：20...\n",
      "15    试卷袋封面填写不规范。1课程总结中总评成绩构成比例与教学大纲中的成绩评定不一致（课程总结中总...\n",
      "16    课程成绩由平时成绩+期末成绩二部分组成;试卷中“三填空题”、“三问答题”。第二、四题题首与卷...\n",
      "17             总评成绩=平时成绩*30%+正考成绩*70% 二部分组成未按卷面成绩进行试卷分析\n",
      "18    课程总结中无试卷分析说明：英语试题30%为主观题，有试卷；70%为客观题，有机读卡。主观题试...\n",
      "19    课程总结中无试卷分析说明：英语试题30%为主观题，有试卷；70%为客观题，有机读卡。主观题试...\n",
      "20    课程总结中无试卷分析说明：期末为口试，学生试卷为录音光盘。考试以2-4人的小组进行。录音中有...\n",
      "21    1、 B卷似有误：第三大题只有题目，无具体内容，之后就是第五大题了。第四大题缺。 2、学校要...\n",
      "22                                    课程总结中无试卷分析无卷面成绩分析\n",
      "23    课程总结中无试卷分析1、题型未达到三种，但口试似可无需三种以上。2、未用标准模板，但口语考试...\n",
      "24                                            修改部分老师未签名\n",
      "25                                            修改部分老师未签名\n",
      "26                                                     \n",
      "27                                                     \n",
      "28    1.没有学生课程成绩构成明细表；2.没有课堂表现、平时成绩、半期考试成绩表。1.A,B两卷重...\n",
      "29    1.没有课堂表现、半期考试成绩表；2.学生试题卷没有按照成绩单顺序整理；3.试卷评阅记录表阅...\n",
      "30                           1.没有课堂表现、半期考试成绩表。1.没有阶段成绩。\n",
      "31    1.没有学生课程成绩构成明细表；2.没有考勤成绩祥细分数。1.试卷（A卷）不标准。试卷中题首...\n",
      "32    1.没有学生课程成绩构成明细表；2.没有考勤成绩祥细分数。1.试卷袋封面是否填写规范，没有监...\n",
      "33    1.没有按照《重庆邮电大学课程总结表》；课程总结表格不正确。1.试卷袋封面填写不规范；2.课...\n",
      "Name: 存在的不足, dtype: object\n"
     ]
    }
   ],
   "source": [
    "import numpy as np\n",
    "import pandas as pd\n",
    "df = pd.read_csv('./quedian.csv',encoding='ANSI')\n",
    "df_res = pd.DataFrame(columns=['开课学院','课程名','班级','任课教师','综合得分','存在的不足'])\n",
    "df['不足之处1'] = df['不足之处1'].apply(lambda x:x if x!='无'else '')\n",
    "df['不足之处2'] = df['不足之处2'].apply(lambda x:x if x!='无' else '')\n",
    "df['不足之处3'] = df['不足之处3'].apply(lambda x:x if x!='无' else '')\n",
    "df['不足之处4'] = df['不足之处4'].apply(lambda x:x if x!='无' else '')\n",
    "\n",
    "df_res['综合得分'] = df['平均分']\n",
    "df_res['开课学院'] = df['院系']\n",
    "df_res['课程名'] = df['课程信息'].apply(lambda x:x.split('-')[1])\n",
    "df_res['班级'] = df['班级']\n",
    "df_res['任课教师'] = df['教师']\n",
    "# df_res['存在的不足'] = df['不足之处1'].map(str)+'。'+df['不足之处2'].map(str)+'。'+df['不足之处3'].map(str)+'。'+df['不足之处4'].map(str)\n",
    "df_res['存在的不足'] = df['不足之处1'].map(str)+df['不足之处2'].map(str)+df['不足之处3'].map(str)+df['不足之处4'].map(str)\n",
    "df_res['存在的不足'] = df_res['存在的不足'].apply(lambda x:x.replace('nan',''))\n",
    "print(df_res['存在的不足'])\n",
    "\n",
    "res = pd.read_csv('./res.csv',encoding='ANSI')\n",
    "res = pd.merge(res, df_res, on=['任课教师'])\n",
    "# print(res['存在的不足'])\n",
    "res.to_csv('./final.csv',encoding='GBK')"
   ]
  },
  {
   "cell_type": "code",
   "execution_count": null,
   "metadata": {
    "scrolled": false
   },
   "outputs": [],
   "source": []
  },
  {
   "cell_type": "code",
   "execution_count": null,
   "metadata": {},
   "outputs": [],
   "source": []
  }
 ],
 "metadata": {
  "kernelspec": {
   "display_name": "Python 3",
   "language": "python",
   "name": "python3"
  },
  "language_info": {
   "codemirror_mode": {
    "name": "ipython",
    "version": 3
   },
   "file_extension": ".py",
   "mimetype": "text/x-python",
   "name": "python",
   "nbconvert_exporter": "python",
   "pygments_lexer": "ipython3",
   "version": "3.6.4"
  }
 },
 "nbformat": 4,
 "nbformat_minor": 2
}
