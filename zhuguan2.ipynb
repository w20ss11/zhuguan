{
 "cells": [
  {
   "cell_type": "code",
   "execution_count": 1,
   "metadata": {},
   "outputs": [
    {
     "data": {
      "text/plain": [
       "'<!DOCTYPE html PUBLIC \"-//W3C//DTD XHTML 1.0 Transitional//EN\" \"http://www.w3.org/TR/xhtml1/DTD/xhtml1-transitional.dtd\">\\r\\n<html xmlns=\"http://www.w3.org/1999/xhtml\">\\r\\n    <head>\\r\\n\\r\\n        <title>.::::::: 2016版培养方案阅读器 :::::::.</title>\\r\\n\\r\\n        <meta http-equiv=\"Content-Type\" content=\"text/html; charset=utf-8\" />\\r\\n\\r\\n        <link href=\"../css/common.css\" rel=\"stylesheet\">\\r\\n        <link rel=\"stylesheet\" type=\"text/css\" href=\"../js/jquery-easyui-1.5/themes/metro/easyui.css\">\\r\\n        <link rel=\"stylesheet\" type=\"text/css\" href=\"../js/jquery-easyui-1.5/themes/icon.css\">   \\r\\n        <script type=\"text/javascript\" src=\"../js/jquery-easyui-1.5/jquery.min.js\"></script>      \\r\\n        <script type=\"text/javascript\" src=\"../js/jquery-easyui-1.5/jquery.easyui.min.js\"></script>   \\r\\n        <style type=\"text/css\">\\r\\n            /* <![CDATA[ */\\r\\n            #header h2{\\r\\n                color: #FFFFFF;text-align: center;padding: 5px;letter-spacing: 3px;\\r\\n                font-size: 16px;\\r\\n            }\\r\\n            h3{\\r\\n                font-size: 14px;\\r\\n                letter-spacing: 2px;\\r\\n                margin-top: 5px;\\r\\n                margin-bottom: 5px;\\r\\n            }\\r\\n\\r\\n            .naviLink{\\r\\n                color:black;\\r\\n            } \\r\\n            .naviLink:hover{\\r\\n                text-decoration: underline;\\r\\n            }\\r\\n\\r\\n            #contentPanel{\\r\\n                overflow: auto;\\r\\n            }\\r\\n\\r\\n            /* ]]> */\\r\\n        </style>\\r\\n        <script type=\"text/javascript\">   \\r\\n            $(document).ready(function(){   \\r\\n\\r\\n                $( \".naviLink\" ).click(function(event){\\r\\n                    event.preventDefault();  \\r\\n                    $(\"#contentPanel\").html(\"正在加载页面，请等待。。。\");  \\r\\n                    $(\"#contentPanel\").load($(this).attr(\"href\")); \\r\\n                    $(\\'html, body\\').animate({scrollTop:0}); \\r\\n                });   \\r\\n                 \\r\\n\\r\\n            });     \\r\\n        </script>\\r\\n    </head>\\r\\n    <body style=\"margin: 0px;background: #F0F0F0;\">\\r\\n        <div id=\"header\" style=\"background: #585858; height: 30px;\">\\r\\n            <h2 >2016版培养方案阅读器</h2>\\r\\n        </div>\\r\\n\\r\\n        <div style=\"width: 1220px;margin: auto;min-height: 1000px;background: #ffffff;\">\\r\\n            <div style=\"float: left;width: 250px;padding-left: 4px;\" id=\"navi\">\\r\\n                <h3 style=\"text-align: center;\">目录</h3>\\r\\n                <h3>一、培养方案修订指导意见</h3>\\r\\n                <div>\\r\\n                    <a href=\"reader/guide.php\" class=\"naviLink\">（1）指导意见</a> \\r\\n                    <br /><a href=\"reader/jctsk.php\" class=\"naviLink\">（2）交叉通识课程设置</a>\\r\\n                    <br /><a href=\"reader/bxf.php\" class=\"naviLink\">（3）B学分课程设置</a>\\r\\n                </div>\\r\\n                <h3>二、各学院培养方案</h3> \\r\\n\\r\\n                <div id=\"xyNavi\">\\r\\n                     <ul class=\\'easyui-tree\\' data-options=\"lines:true\">\\r\\n                     <li data-options=\"state:\\'closed\\'\"><span>通信与信息工程学院</span>\\r\\n                        <ul><li ><a href=\\'htmlPreView.php?zyh=0114\\' class=\\'naviLink\\'>通信与信息类</a></li><li ><a href=\\'htmlPreView.php?zyh=0115\\' class=\\'naviLink\\'>广电与数字媒体类</a></li><li ><a href=\\'htmlPreView.php?zyh=0190\\' class=\\'naviLink\\'>通信工程专业卓越工程师班</a></li><li ><a href=\\'htmlPreView.php?zyh=0191\\' class=\\'naviLink\\'>通信学院IT精英班</a></li></ul>\\r\\n                        </li><li data-options=\"state:\\'closed\\'\"><span>光电工程学院</span>\\r\\n                        <ul><li ><a href=\\'htmlPreView.php?zyh=0211\\' class=\\'naviLink\\'>电子工程类</a></li><li ><a href=\\'htmlPreView.php?zyh=0290\\' class=\\'naviLink\\'>光电信息科学与工程专业实验班</a></li></ul>\\r\\n                        </li><li data-options=\"state:\\'closed\\'\"><span>经济管理学院</span>\\r\\n                        <ul><li ><a href=\\'htmlPreView.php?zyh=0301\\' class=\\'naviLink\\'>信息管理与信息系统</a></li><li ><a href=\\'htmlPreView.php?zyh=0303\\' class=\\'naviLink\\'>经济学</a></li><li ><a href=\\'htmlPreView.php?zyh=0308\\' class=\\'naviLink\\'>工程管理</a></li><li ><a href=\\'htmlPreView.php?zyh=0312\\' class=\\'naviLink\\'>工商管理类</a></li><li ><a href=\\'htmlPreView.php?zyh=0316\\' class=\\'naviLink\\'>电子商务大类</a></li><li ><a href=\\'htmlPreView.php?zyh=0320\\' class=\\'naviLink\\'>工商管理二专业</a></li><li ><a href=\\'htmlPreView.php?zyh=0321\\' class=\\'naviLink\\'>市场营销二专业</a></li><li ><a href=\\'htmlPreView.php?zyh=0322\\' class=\\'naviLink\\'>经济学二专业</a></li><li ><a href=\\'htmlPreView.php?zyh=0323\\' class=\\'naviLink\\'>创新创业实验班</a></li><li ><a href=\\'htmlPreView.php?zyh=0394\\' class=\\'naviLink\\'>物流管理（智慧邮政方向）实验班</a></li></ul>\\r\\n                        </li><li data-options=\"state:\\'closed\\'\"><span>计算机科学与技术学院</span>\\r\\n                        <ul><li ><a href=\\'htmlPreView.php?zyh=0412\\' class=\\'naviLink\\'>计算机与智能科学类</a></li><li ><a href=\\'htmlPreView.php?zyh=0491\\' class=\\'naviLink\\'>计算机科学与技术专业卓越工程师班</a></li><li ><a href=\\'htmlPreView.php?zyh=0492\\' class=\\'naviLink\\'>信息安全专业卓越工程师班</a></li></ul>\\r\\n                        </li><li data-options=\"state:\\'closed\\'\"><span>外国语学院</span>\\r\\n                        <ul><li ><a href=\\'htmlPreView.php?zyh=0511\\' class=\\'naviLink\\'>英语类</a></li><li ><a href=\\'htmlPreView.php?zyh=0520\\' class=\\'naviLink\\'>英语二专业</a></li><li ><a href=\\'htmlPreView.php?zyh=0521\\' class=\\'naviLink\\'>英语二专业（中加）</a></li></ul>\\r\\n                        </li><li data-options=\"state:\\'closed\\'\"><span>生物信息学院</span>\\r\\n                        <ul><li ><a href=\\'htmlPreView.php?zyh=0601\\' class=\\'naviLink\\'>生物医学工程</a></li><li ><a href=\\'htmlPreView.php?zyh=0605\\' class=\\'naviLink\\'>生物信息学</a></li></ul>\\r\\n                        </li><li data-options=\"state:\\'closed\\'\"><span>网络空间安全与信息法学院</span>\\r\\n                        <ul><li ><a href=\\'htmlPreView.php?zyh=0703\\' class=\\'naviLink\\'>信息安全(安法学院)</a></li><li ><a href=\\'htmlPreView.php?zyh=0711\\' class=\\'naviLink\\'>法学类</a></li><li ><a href=\\'htmlPreView.php?zyh=0720\\' class=\\'naviLink\\'>法学二专业</a></li><li ><a href=\\'htmlPreView.php?zyh=0722\\' class=\\'naviLink\\'>知识产权二专业</a></li></ul>\\r\\n                        </li><li data-options=\"state:\\'closed\\'\"><span>自动化学院</span>\\r\\n                        <ul><li ><a href=\\'htmlPreView.php?zyh=0812\\' class=\\'naviLink\\'>自动化与电气工程类</a></li><li ><a href=\\'htmlPreView.php?zyh=0890\\' class=\\'naviLink\\'>自动化专业卓越工程师班</a></li></ul>\\r\\n                        </li><li data-options=\"state:\\'closed\\'\"><span>体育学院</span>\\r\\n                        <ul><li ><a href=\\'htmlPreView.php?zyh=0901\\' class=\\'naviLink\\'>社会体育指导与管理</a></li></ul>\\r\\n                        </li><li data-options=\"state:\\'closed\\'\"><span>理学院</span>\\r\\n                        <ul><li ><a href=\\'htmlPreView.php?zyh=1112\\' class=\\'naviLink\\'>数理科学与信息技术类</a></li><li ><a href=\\'htmlPreView.php?zyh=1192\\' class=\\'naviLink\\'>应用物理学专业实验班</a></li></ul>\\r\\n                        </li><li data-options=\"state:\\'closed\\'\"><span>传媒艺术学院</span>\\r\\n                        <ul><li ><a href=\\'htmlPreView.php?zyh=1201\\' class=\\'naviLink\\'>广播电视编导</a></li><li ><a href=\\'htmlPreView.php?zyh=1211\\' class=\\'naviLink\\'>艺术设计类</a></li><li ><a href=\\'htmlPreView.php?zyh=1212\\' class=\\'naviLink\\'>数字媒体艺术与动画大类</a></li><li ><a href=\\'htmlPreView.php?zyh=1290\\' class=\\'naviLink\\'>广播电视编导专业实验班</a></li></ul>\\r\\n                        </li><li data-options=\"state:\\'closed\\'\"><span>软件工程学院</span>\\r\\n                        <ul><li ><a href=\\'htmlPreView.php?zyh=1300\\' class=\\'naviLink\\'>软件工程</a></li><li ><a href=\\'htmlPreView.php?zyh=1306\\' class=\\'naviLink\\'>英语+软件</a></li><li ><a href=\\'htmlPreView.php?zyh=1307\\' class=\\'naviLink\\'>日语+软件</a></li><li ><a href=\\'htmlPreView.php?zyh=1390\\' class=\\'naviLink\\'>软件工程专业卓越工程师班</a></li></ul>\\r\\n                        </li><li data-options=\"state:\\'closed\\'\"><span>先进制造工程学院</span>\\r\\n                        <ul><li ><a href=\\'htmlPreView.php?zyh=1411\\' class=\\'naviLink\\'>先进制造大类\\r\\n</a></li></ul>\\r\\n                        </li><li data-options=\"state:\\'closed\\'\"><span>国际学院</span>\\r\\n                        <ul><li ><a href=\\'htmlPreView.php?zyh=3406\\' class=\\'naviLink\\'>英语(中加)</a></li><li ><a href=\\'htmlPreView.php?zyh=3407\\' class=\\'naviLink\\'>电子信息工程(中美)</a></li><li ><a href=\\'htmlPreView.php?zyh=3408\\' class=\\'naviLink\\'>软件工程（中外）</a></li></ul>\\r\\n                        </li><li data-options=\"state:\\'closed\\'\"><span>国际半导体学院</span>\\r\\n                        <ul><li ><a href=\\'htmlPreView.php?zyh=1611\\' class=\\'naviLink\\'>集成电路工程类</a></li><li ><a href=\\'htmlPreView.php?zyh=1620\\' class=\\'naviLink\\'>微电子科学与工程专业实验班</a></li></ul>\\r\\n                        </li>                    </ul>\\r\\n                </div>\\r\\n                <h3>三、教学大纲、考试大纲</h3>\\r\\n                <div>\\r\\n                    <a href=\"reader/kchBaseInfo.php\" class=\"naviLink\">&nbsp;&nbsp;&nbsp;进入查询</a>  \\r\\n                </div>\\r\\n                <h3>四、新旧方案对照表</h3>\\r\\n                <div>\\r\\n                    <a href=\"reader/newOldDb.php\" class=\"naviLink\">&nbsp;&nbsp;&nbsp;进入查询</a>  \\r\\n                </div>\\r\\n                <h3>五、指导性教学进程安排</h3>\\r\\n                <div id=\"xyNaviJc\"> \\r\\n                 <ul class=\\'easyui-tree\\' data-options=\"lines:true\"> \\r\\n                    <li data-options=\"state:\\'closed\\'\"><span>通信与信息工程学院</span>\\r\\n                        <ul><li ><a href=\\'reader/jxjcAp.php?zyh=0114\\' class=\\'naviLink\\'>通信与信息类</a></li><li ><a href=\\'reader/jxjcAp.php?zyh=0115\\' class=\\'naviLink\\'>广电与数字媒体类</a></li><li ><a href=\\'reader/jxjcAp.php?zyh=0190\\' class=\\'naviLink\\'>通信工程专业卓越工程师班</a></li><li ><a href=\\'reader/jxjcAp.php?zyh=0191\\' class=\\'naviLink\\'>通信学院IT精英班</a></li></ul>\\r\\n                        </li><li data-options=\"state:\\'closed\\'\"><span>光电工程学院</span>\\r\\n                        <ul><li ><a href=\\'reader/jxjcAp.php?zyh=0211\\' class=\\'naviLink\\'>电子工程类</a></li><li ><a href=\\'reader/jxjcAp.php?zyh=0290\\' class=\\'naviLink\\'>光电信息科学与工程专业实验班</a></li></ul>\\r\\n                        </li><li data-options=\"state:\\'closed\\'\"><span>经济管理学院</span>\\r\\n                        <ul><li ><a href=\\'reader/jxjcAp.php?zyh=0301\\' class=\\'naviLink\\'>信息管理与信息系统</a></li><li ><a href=\\'reader/jxjcAp.php?zyh=0303\\' class=\\'naviLink\\'>经济学</a></li><li ><a href=\\'reader/jxjcAp.php?zyh=0308\\' class=\\'naviLink\\'>工程管理</a></li><li ><a href=\\'reader/jxjcAp.php?zyh=0312\\' class=\\'naviLink\\'>工商管理类</a></li><li ><a href=\\'reader/jxjcAp.php?zyh=0316\\' class=\\'naviLink\\'>电子商务大类</a></li><li ><a href=\\'reader/jxjcAp.php?zyh=0320\\' class=\\'naviLink\\'>工商管理二专业</a></li><li ><a href=\\'reader/jxjcAp.php?zyh=0321\\' class=\\'naviLink\\'>市场营销二专业</a></li><li ><a href=\\'reader/jxjcAp.php?zyh=0322\\' class=\\'naviLink\\'>经济学二专业</a></li><li ><a href=\\'reader/jxjcAp.php?zyh=0323\\' class=\\'naviLink\\'>创新创业实验班</a></li><li ><a href=\\'reader/jxjcAp.php?zyh=0394\\' class=\\'naviLink\\'>物流管理（智慧邮政方向）实验班</a></li></ul>\\r\\n                        </li><li data-options=\"state:\\'closed\\'\"><span>计算机科学与技术学院</span>\\r\\n                        <ul><li ><a href=\\'reader/jxjcAp.php?zyh=0412\\' class=\\'naviLink\\'>计算机与智能科学类</a></li><li ><a href=\\'reader/jxjcAp.php?zyh=0491\\' class=\\'naviLink\\'>计算机科学与技术专业卓越工程师班</a></li><li ><a href=\\'reader/jxjcAp.php?zyh=0492\\' class=\\'naviLink\\'>信息安全专业卓越工程师班</a></li></ul>\\r\\n                        </li><li data-options=\"state:\\'closed\\'\"><span>外国语学院</span>\\r\\n                        <ul><li ><a href=\\'reader/jxjcAp.php?zyh=0511\\' class=\\'naviLink\\'>英语类</a></li><li ><a href=\\'reader/jxjcAp.php?zyh=0520\\' class=\\'naviLink\\'>英语二专业</a></li><li ><a href=\\'reader/jxjcAp.php?zyh=0521\\' class=\\'naviLink\\'>英语二专业（中加）</a></li></ul>\\r\\n                        </li><li data-options=\"state:\\'closed\\'\"><span>生物信息学院</span>\\r\\n                        <ul><li ><a href=\\'reader/jxjcAp.php?zyh=0601\\' class=\\'naviLink\\'>生物医学工程</a></li><li ><a href=\\'reader/jxjcAp.php?zyh=0605\\' class=\\'naviLink\\'>生物信息学</a></li></ul>\\r\\n                        </li><li data-options=\"state:\\'closed\\'\"><span>网络空间安全与信息法学院</span>\\r\\n                        <ul><li ><a href=\\'reader/jxjcAp.php?zyh=0703\\' class=\\'naviLink\\'>信息安全(安法学院)</a></li><li ><a href=\\'reader/jxjcAp.php?zyh=0711\\' class=\\'naviLink\\'>法学类</a></li><li ><a href=\\'reader/jxjcAp.php?zyh=0720\\' class=\\'naviLink\\'>法学二专业</a></li><li ><a href=\\'reader/jxjcAp.php?zyh=0722\\' class=\\'naviLink\\'>知识产权二专业</a></li></ul>\\r\\n                        </li><li data-options=\"state:\\'closed\\'\"><span>自动化学院</span>\\r\\n                        <ul><li ><a href=\\'reader/jxjcAp.php?zyh=0812\\' class=\\'naviLink\\'>自动化与电气工程类</a></li><li ><a href=\\'reader/jxjcAp.php?zyh=0890\\' class=\\'naviLink\\'>自动化专业卓越工程师班</a></li></ul>\\r\\n                        </li><li data-options=\"state:\\'closed\\'\"><span>体育学院</span>\\r\\n                        <ul><li ><a href=\\'reader/jxjcAp.php?zyh=0901\\' class=\\'naviLink\\'>社会体育指导与管理</a></li></ul>\\r\\n                        </li><li data-options=\"state:\\'closed\\'\"><span>理学院</span>\\r\\n                        <ul><li ><a href=\\'reader/jxjcAp.php?zyh=1112\\' class=\\'naviLink\\'>数理科学与信息技术类</a></li><li ><a href=\\'reader/jxjcAp.php?zyh=1192\\' class=\\'naviLink\\'>应用物理学专业实验班</a></li></ul>\\r\\n                        </li><li data-options=\"state:\\'closed\\'\"><span>传媒艺术学院</span>\\r\\n                        <ul><li ><a href=\\'reader/jxjcAp.php?zyh=1201\\' class=\\'naviLink\\'>广播电视编导</a></li><li ><a href=\\'reader/jxjcAp.php?zyh=1211\\' class=\\'naviLink\\'>艺术设计类</a></li><li ><a href=\\'reader/jxjcAp.php?zyh=1212\\' class=\\'naviLink\\'>数字媒体艺术与动画大类</a></li><li ><a href=\\'reader/jxjcAp.php?zyh=1290\\' class=\\'naviLink\\'>广播电视编导专业实验班</a></li></ul>\\r\\n                        </li><li data-options=\"state:\\'closed\\'\"><span>软件工程学院</span>\\r\\n                        <ul><li ><a href=\\'reader/jxjcAp.php?zyh=1300\\' class=\\'naviLink\\'>软件工程</a></li><li ><a href=\\'reader/jxjcAp.php?zyh=1306\\' class=\\'naviLink\\'>英语+软件</a></li><li ><a href=\\'reader/jxjcAp.php?zyh=1307\\' class=\\'naviLink\\'>日语+软件</a></li><li ><a href=\\'reader/jxjcAp.php?zyh=1390\\' class=\\'naviLink\\'>软件工程专业卓越工程师班</a></li></ul>\\r\\n                        </li><li data-options=\"state:\\'closed\\'\"><span>先进制造工程学院</span>\\r\\n                        <ul><li ><a href=\\'reader/jxjcAp.php?zyh=1411\\' class=\\'naviLink\\'>先进制造大类\\r\\n</a></li></ul>\\r\\n                        </li><li data-options=\"state:\\'closed\\'\"><span>国际学院</span>\\r\\n                        <ul><li ><a href=\\'reader/jxjcAp.php?zyh=3406\\' class=\\'naviLink\\'>英语(中加)</a></li><li ><a href=\\'reader/jxjcAp.php?zyh=3407\\' class=\\'naviLink\\'>电子信息工程(中美)</a></li><li ><a href=\\'reader/jxjcAp.php?zyh=3408\\' class=\\'naviLink\\'>软件工程（中外）</a></li></ul>\\r\\n                        </li><li data-options=\"state:\\'closed\\'\"><span>国际半导体学院</span>\\r\\n                        <ul><li ><a href=\\'reader/jxjcAp.php?zyh=1611\\' class=\\'naviLink\\'>集成电路工程类</a></li><li ><a href=\\'reader/jxjcAp.php?zyh=1620\\' class=\\'naviLink\\'>微电子科学与工程专业实验班</a></li></ul>\\r\\n                        </li>  </ul>\\r\\n                </div> \\r\\n\\r\\n\\r\\n\\r\\n\\r\\n\\r\\n            </div>\\r\\n            <div style=\"float: left;width: 950px;padding-top: 5px;\" id=\"contentPanel\">   \\r\\n\\r\\n            </div> \\r\\n            <div style=\"clear: both;\"></div>    \\r\\n        </div>  \\r\\n    </body>\\r\\n</html>'"
      ]
     },
     "execution_count": 1,
     "metadata": {},
     "output_type": "execute_result"
    }
   ],
   "source": [
    "import urllib.request as request\n",
    "def get_page_source(url):\n",
    "    headers = {'Accept': 'text/html, */*; q=0.01',\n",
    "                   'Accept-Encoding': 'gzip, deflate',\n",
    "                   'Accept-Language': 'zh-CN',\n",
    "                   'Connection': 'Keep-Alive',\n",
    "                   'Cookie': 'PHPSESSID=9nhpmpe8tnvk00026375prlno1',\n",
    "                   'Host': 'jwzx.cqupt.edu.cn',\n",
    "                   'Referer': 'http://jwzx.cqupt.edu.cn/jwzxtmp/pyfa/index.php',\n",
    "                   'User-Agent': 'Mozilla/5.0 (Windows NT 10.0; Win64; x64) AppleWebKit/537.36 (KHTML, like Gecko) Chrome/46.0.2486.0 Safari/537.36 Edge/13.10586',\n",
    "                    'X-Requested-With': 'XMLHttpRequest'\n",
    "               }\n",
    "    req = request.Request(url, headers = headers)\n",
    "    response = request.urlopen(req)\n",
    "    page_source = response.read().decode('utf-8')\n",
    "    return page_source\n",
    "get_page_source('http://jwzx.cqupt.edu.cn/jwzxtmp/pyfa/index.php')"
   ]
  },
  {
   "cell_type": "code",
   "execution_count": 7,
   "metadata": {
    "scrolled": false
   },
   "outputs": [],
   "source": [
    "#不用\n",
    "from urllib.request import urlopen\n",
    "from bs4 import BeautifulSoup\n",
    "\n",
    "def saveHtml(file_name,file_content):    \n",
    "#    注意windows文件命名的禁用符，比如 /    \n",
    "    with open (file_name.replace('/','_')+\".html\",\"w\") as f:  \n",
    "#   写文件用bytes而不是str，所以要转码    \n",
    "        f.write( file_content )\n",
    "    \n",
    "html = urlopen('http://jwzx.cqupt.edu.cn/jwzxtmp/pyfa/reader/jxjcAp.php?zyh=0114').read().decode('utf-8')\n",
    "#print(html)\n",
    "soup = BeautifulSoup(html,\"lxml\")  \n",
    "content = soup.findAll([\"table\", \"h3\"])\n",
    "#soup.find(class_='pro-detail-price').find('span').string\n",
    "saveHtml(\"text1\",str(content))\n",
    "# tables = soup.findAll(\"table\")  \n",
    "# print(tables)"
   ]
  },
  {
   "cell_type": "code",
   "execution_count": 1,
   "metadata": {},
   "outputs": [
    {
     "name": "stdout",
     "output_type": "stream",
     "text": [
      "   col1      col2         col3 col4                col5        col6 col7\n",
      "1     1  A1100020  思想道德修养与法律基础    3  20 | 0 | 1.0周 | 12     马克思主义学院   必修\n",
      "2     2  A1090010        大学体育1    1      32 | 0 | 0 | 0        体育学院   必修\n",
      "3     3  A1110030        线性代数A    3      48 | 0 | 0 | 0         理学院   必修\n",
      "4     4  A1110010     高等数学A(上)  5.5      88 | 0 | 0 | 0         理学院   必修\n",
      "5     5  A1050030        大学英语1    4      64 | 0 | 0 | 0       外国语学院   必修\n",
      "6     6  A1040040      C语言程序设计    3     32 | 16 | 0 | 0  计算机科学与技术学院   必修\n",
      "7     7  A2011270       程序设计训练  1.5    0 | 0 | 1.5周 | 0   通信与信息工程学院   必修\n",
      "8     8  A1050040        大学英语2    4      64 | 0 | 0 | 0       外国语学院   必修\n",
      "1     1  A1100020  思想道德修养与法律基础    3  20 | 0 | 1.0周 | 12     马克思主义学院   必修\n",
      "2     2  A1090010        大学体育1    1      32 | 0 | 0 | 0        体育学院   必修\n",
      "3     3  A1110010     高等数学A(上)  5.5      88 | 0 | 0 | 0         理学院   必修\n",
      "4     4  A1040040      C语言程序设计    3     32 | 16 | 0 | 0  计算机科学与技术学院   必修\n",
      "5     5  A1050030        大学英语1    4      64 | 0 | 0 | 0       外国语学院   必修\n",
      "6     6  A2011270       程序设计训练  1.5    0 | 0 | 1.5周 | 0   通信与信息工程学院   必修\n",
      "7     7  A2011340       数字媒体导论    2      32 | 0 | 0 | 0   通信与信息工程学院   必修\n",
      "8     8  A2121980      艺术设计概论1    1      16 | 0 | 0 | 0      传媒艺术学院   必修\n",
      "9     9  A2122010         造型基础    3      0 | 48 | 0 | 0      传媒艺术学院   必修\n",
      "10   10  A1050040        大学英语2    4      64 | 0 | 0 | 0       外国语学院   必修\n",
      "1     1  A1100020  思想道德修养与法律基础    3  20 | 0 | 1.0周 | 12     马克思主义学院   必修\n",
      "2     2  A1090010        大学体育1    1      32 | 0 | 0 | 0        体育学院   必修\n",
      "3     3  A1110010     高等数学A(上)  5.5      88 | 0 | 0 | 0         理学院   必修\n",
      "4     4  A1110030        线性代数A    3      48 | 0 | 0 | 0         理学院   必修\n",
      "5     5  A1050030        大学英语1    4      64 | 0 | 0 | 0       外国语学院   必修\n",
      "6     6  A1040040      C语言程序设计    3     32 | 16 | 0 | 0  计算机科学与技术学院   必修\n",
      "7     7  A2010990      企业认知实习1  0.5    0 | 0 | 1.0周 | 0   通信与信息工程学院   必修\n",
      "8     8  A2011270       程序设计训练  1.5    0 | 0 | 1.5周 | 0   通信与信息工程学院   必修\n",
      "9     9  A1050040        大学英语2    4      64 | 0 | 0 | 0       外国语学院   必修\n",
      "1     1  A2011270       程序设计训练  1.5    0 | 0 | 1.5周 | 0   通信与信息工程学院   必修\n",
      "2     2  A2030990         管理学A    3      48 | 0 | 0 | 0      经济管理学院   必修\n",
      "3     3  A2140010        金工实习B    1    0 | 0 | 1.0周 | 0    先进制造工程学院   必修\n",
      "..  ...       ...          ...  ...                 ...         ...  ...\n",
      "2     2  A1090010        大学体育1    1      32 | 0 | 0 | 0        体育学院   必修\n",
      "3     3  A1110030        线性代数A    3      48 | 0 | 0 | 0         理学院   必修\n",
      "4     4  A1110010     高等数学A(上)  5.5      88 | 0 | 0 | 0         理学院   必修\n",
      "5     5  A2011200         工程英语    2      32 | 0 | 0 | 0   通信与信息工程学院   必修\n",
      "6     6  A2051090        综合英语1    2      32 | 0 | 0 | 0       外国语学院   必修\n",
      "7     7  A2150041        英语听说B    1      16 | 0 | 0 | 0        国际学院   必修\n",
      "1     1  A1100020  思想道德修养与法律基础    3  20 | 0 | 1.0周 | 12     马克思主义学院   必修\n",
      "2     2  A1090010        大学体育1    1      32 | 0 | 0 | 0        体育学院   必修\n",
      "3     3  A1110010     高等数学A(上)  5.5      88 | 0 | 0 | 0         理学院   必修\n",
      "4     4  A2150060      英语视听说 1    2      32 | 0 | 0 | 0        国际学院   必修\n",
      "5     5  A2130010  编程基础（1）面向过程    4     48 | 16 | 0 | 0      软件工程学院   必修\n",
      "6     6  A2051090        综合英语1    2      32 | 0 | 0 | 0       外国语学院   选修\n",
      "1     1  A1100020  思想道德修养与法律基础    3  20 | 0 | 1.0周 | 12     马克思主义学院   必修\n",
      "2     2  A1090010        大学体育1    1      32 | 0 | 0 | 0        体育学院   必修\n",
      "3     3  A1110030        线性代数A    3      48 | 0 | 0 | 0         理学院   必修\n",
      "4     4  A1110010     高等数学A(上)  5.5      88 | 0 | 0 | 0         理学院   必修\n",
      "5     5  A1050030        大学英语1    4      64 | 0 | 0 | 0       外国语学院   必修\n",
      "6     6  A1040010      大学计算机基础    1      16 | 0 | 0 | 0  计算机科学与技术学院   必修\n",
      "7     7  A1040030    大学计算机应用实践    1    0 | 0 | 1.0周 | 0  计算机科学与技术学院   必修\n",
      "8     8  A2140010        金工实习B    1    0 | 0 | 1.0周 | 0    先进制造工程学院   必修\n",
      "9     9  A1050040        大学英语2    4      64 | 0 | 0 | 0       外国语学院   必修\n",
      "1     1  A1100020  思想道德修养与法律基础    3  20 | 0 | 1.0周 | 12     马克思主义学院   必修\n",
      "2     2  A1090010        大学体育1    1      32 | 0 | 0 | 0        体育学院   必修\n",
      "3     3  A1110110    线性代数与解析几何    3      48 | 0 | 0 | 0         理学院   必修\n",
      "4     4  A1110090    工科数学分析（上）  5.5      88 | 0 | 0 | 0         理学院   必修\n",
      "5     5  A1050030        大学英语1    4      64 | 0 | 0 | 0       外国语学院   必修\n",
      "6     6  A1040010      大学计算机基础    1      16 | 0 | 0 | 0  计算机科学与技术学院   必修\n",
      "7     7  A1040030    大学计算机应用实践    1    0 | 0 | 1.0周 | 0  计算机科学与技术学院   必修\n",
      "8     8  A2140010        金工实习B    1    0 | 0 | 1.0周 | 0    先进制造工程学院   必修\n",
      "9     9  A1050040        大学英语2    4      64 | 0 | 0 | 0       外国语学院   必修\n",
      "\n",
      "[337 rows x 7 columns]\n"
     ]
    }
   ],
   "source": [
    "import pandas as pd\n",
    "\n",
    "df1 = pd.DataFrame()\n",
    "df2 = pd.DataFrame()\n",
    "df3 = pd.DataFrame()\n",
    "df4 = pd.DataFrame()\n",
    "df5 = pd.DataFrame()\n",
    "df6 = pd.DataFrame()\n",
    "df7 = pd.DataFrame()\n",
    "df8 = pd.DataFrame()\n",
    "for i in range(43):\n",
    "    haha = pd.read_csv(str(i)+\".csv\",encoding='gbk')\n",
    "    haha = haha[(haha.col7==\"必修\")|(haha.col7==\"选修\")\n",
    "                |(haha.col1==\"第1学期\")|(haha.col1==\"第2学期\")|(haha.col1==\"第3学期\")|(haha.col1==\"第4学期\")\n",
    "                |(haha.col1==\"第5学期\")|(haha.col1==\"第6学期\")|(haha.col1==\"第7学期\")|(haha.col1==\"第8学期\")]\n",
    "    #haha.to_csv('haha1.csv',index=False,header=False)\n",
    "    #print(list(haha['col1']).index('第2学期'))\n",
    "\n",
    "    haha = haha.reset_index(drop=True)\n",
    "    #print(haha)\n",
    "    int1 = list(haha['col1']).index('第1学期')\n",
    "    int2 = list(haha['col1']).index('第2学期')\n",
    "    int3 = list(haha['col1']).index('第3学期')\n",
    "    int4 = list(haha['col1']).index('第4学期')\n",
    "    int5 = list(haha['col1']).index('第5学期')\n",
    "    int6 = list(haha['col1']).index('第6学期')\n",
    "    int7 = list(haha['col1']).index('第7学期')\n",
    "    int8 = list(haha['col1']).index('第8学期')\n",
    "    term_1 = haha[(haha.col1.index<int2) & (haha.col1.index>int1)]\n",
    "    term_2 = haha[(haha.col1.index<int3) & (haha.col1.index>int2)]\n",
    "    term_3 = haha[(haha.col1.index<int4) & (haha.col1.index>int3)]\n",
    "    term_4 = haha[(haha.col1.index<int5) & (haha.col1.index>int4)]\n",
    "    term_5 = haha[(haha.col1.index<int6) & (haha.col1.index>int5)]\n",
    "    term_6 = haha[(haha.col1.index<int7) & (haha.col1.index>int6)]\n",
    "    term_7 = haha[(haha.col1.index<int8) & (haha.col1.index>int7)]\n",
    "    term_8 = haha[haha.col1.index>int8]\n",
    "    df1 = pd.concat([df1,term_1])\n",
    "    df2 = pd.concat([df2,term_2])\n",
    "    df3 = pd.concat([df3,term_3])\n",
    "    df4 = pd.concat([df4,term_4])\n",
    "    df5 = pd.concat([df5,term_5])\n",
    "    df6 = pd.concat([df6,term_6])\n",
    "    df7 = pd.concat([df7,term_7])\n",
    "    df8 = pd.concat([df8,term_8])\n",
    "print(df1)\n",
    "df1.to_csv('terms1.csv',index=False,header=False)\n",
    "df2.to_csv('terms2.csv',index=False,header=False)\n",
    "df3.to_csv('terms3.csv',index=False,header=False)\n",
    "df4.to_csv('terms4.csv',index=False,header=False)\n",
    "df5.to_csv('terms5.csv',index=False,header=False)\n",
    "df6.to_csv('terms6.csv',index=False,header=False)\n",
    "df7.to_csv('terms7.csv',index=False,header=False)\n",
    "df8.to_csv('terms8.csv',index=False,header=False)"
   ]
  },
  {
   "cell_type": "code",
   "execution_count": 7,
   "metadata": {},
   "outputs": [],
   "source": [
    "#rename\n",
    "import os\n",
    "address = './haha/'\n",
    "i=0\n",
    "for file in os.listdir(address):\n",
    "    suffix = '.'+file.split('.')[-1]\n",
    "    #print(suffix)\n",
    "    os.rename(os.path.join(address,file),os.path.join(address,str(i)+suffix))\n",
    "    i=i+1"
   ]
  },
  {
   "cell_type": "code",
   "execution_count": 1,
   "metadata": {},
   "outputs": [
    {
     "name": "stdout",
     "output_type": "stream",
     "text": [
      "0\n",
      "1\n",
      "2\n",
      "3\n"
     ]
    }
   ],
   "source": [
    "for i in range(4):\n",
    "    print(i)"
   ]
  },
  {
   "cell_type": "code",
   "execution_count": null,
   "metadata": {
    "collapsed": true
   },
   "outputs": [],
   "source": []
  }
 ],
 "metadata": {
  "kernelspec": {
   "display_name": "Python 3",
   "language": "python",
   "name": "python3"
  },
  "language_info": {
   "codemirror_mode": {
    "name": "ipython",
    "version": 3
   },
   "file_extension": ".py",
   "mimetype": "text/x-python",
   "name": "python",
   "nbconvert_exporter": "python",
   "pygments_lexer": "ipython3",
   "version": "3.6.7"
  }
 },
 "nbformat": 4,
 "nbformat_minor": 2
}
