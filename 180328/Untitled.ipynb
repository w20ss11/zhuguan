{
 "cells": [
  {
   "cell_type": "code",
   "execution_count": 3,
   "metadata": {},
   "outputs": [
    {
     "data": {
      "text/plain": [
       "{'error_code': 18, 'error_msg': 'Open api qps request limit reached'}"
      ]
     },
     "execution_count": 3,
     "metadata": {},
     "output_type": "execute_result"
    }
   ],
   "source": [
    "from aip import AipOcr\n",
    "\n",
    "\"\"\" 你的 APPID AK SK \"\"\"\n",
    "APP_ID = '11011538'\n",
    "API_KEY = 'vT3rKhFDG3Qeve9Vlk800tAr'\n",
    "SECRET_KEY = '9YSOKBxZhpOc83pYcM7s4Ybaug7IkXiZ'\n",
    "client = AipOcr(APP_ID, API_KEY, SECRET_KEY)\n",
    "\n",
    "\"\"\" 读取图片 \"\"\"\n",
    "def get_file_content(filePath):\n",
    "    with open(filePath, 'rb') as fp:\n",
    "        return fp.read()\n",
    "\n",
    "image = get_file_content('e:\\\\1.jpg')\n",
    "\n",
    "\"\"\" 调用表格文字识别 \"\"\"\n",
    "client.tableRecognitionAsync(image);\n",
    "\n",
    "requestId = \"23454320-23255\"\n",
    "\n",
    "\"\"\" 调用表格识别结果 \"\"\"\n",
    "client.getTableRecognitionResult(requestId);\n",
    "\n",
    "\"\"\" 如果有可选参数 \"\"\"\n",
    "options = {}\n",
    "options[\"result_type\"] = \"json\"\n",
    "\n",
    "\"\"\" 带参数调用表格识别结果 \"\"\"\n",
    "client.getTableRecognitionResult(requestId, options)"
   ]
  },
  {
   "cell_type": "code",
   "execution_count": null,
   "metadata": {},
   "outputs": [],
   "source": []
  }
 ],
 "metadata": {
  "kernelspec": {
   "display_name": "Python 3",
   "language": "python",
   "name": "python3"
  },
  "language_info": {
   "codemirror_mode": {
    "name": "ipython",
    "version": 3
   },
   "file_extension": ".py",
   "mimetype": "text/x-python",
   "name": "python",
   "nbconvert_exporter": "python",
   "pygments_lexer": "ipython3",
   "version": "3.6.4"
  }
 },
 "nbformat": 4,
 "nbformat_minor": 2
}
