{
 "cells": [
  {
   "cell_type": "code",
   "execution_count": 9,
   "metadata": {},
   "outputs": [
    {
     "name": "stdout",
     "output_type": "stream",
     "text": [
      "copy D:\\t2_adc_data_1x.bin to E:\\ successful\n",
      "E:\\t2_adc_data_1x.bin\n",
      "E:\\20171017_15_44_12.bin\n"
     ]
    }
   ],
   "source": [
    "import os\n",
    "from numpy.ma.core import arange\n",
    "import shutil\n",
    "import time\n",
    "\n",
    "def copyfile(path_copy,file_name,path_paste):\n",
    "    if (not os.path.isdir(path_copy)) and (not os.path.isdir(path_paste)) and (not os.path.isfile(path_copy+file_name)):\n",
    "        print(\"文件路径或文件名不正确！\")\n",
    "    else:\n",
    "        shutil.copy(path_copy+file_name, path_paste)\n",
    "        print(\"copy %s to %s successful\"   % (path_copy+file_name,path_paste))\n",
    "        name_old = os.path.join(path_paste,file_name)\n",
    "        print(name_old)\n",
    "        name_new = time.strftime(\"%Y%m%d_%H_%M_%S\",time.localtime())+\".bin\"\n",
    "        name_new = nam_new = os.path.join(path_paste,name_new)\n",
    "        print(name_new)\n",
    "        os.rename(name_old,nam_new)\n",
    "\n",
    "copyfile(\"D:\\\\\",\"t2_adc_data_1x.bin\",\"E:\\\\\")"
   ]
  },
  {
   "cell_type": "code",
   "execution_count": 1,
   "metadata": {
    "collapsed": true
   },
   "outputs": [],
   "source": [
    "#!/usr/bin/python\n",
    "# -*- coding: UTF-8 -*-\n",
    "\n",
    "from tkinter import *           # 导入 Tkinter 库\n",
    "root = Tk()                     # 创建窗口对象的背景色\n",
    "                                # 创建两个列表\n",
    "li     = ['C','python','php','html','SQL','java']\n",
    "movie  = ['CSS','jQuery','Bootstrap']\n",
    "listb  = Listbox(root)          #  创建两个列表组件\n",
    "listb2 = Listbox(root)\n",
    "for item in li:                 # 第一个小部件插入数据\n",
    "    listb.insert(0,item)\n",
    "\n",
    "for item in movie:              # 第二个小部件插入数据\n",
    "    listb2.insert(0,item)\n",
    "\n",
    "listb.pack()                    # 将小部件放置到主窗口中\n",
    "listb2.pack()\n",
    "root.mainloop()                 # 进入消息循环"
   ]
  },
  {
   "cell_type": "code",
   "execution_count": null,
   "metadata": {
    "collapsed": true
   },
   "outputs": [],
   "source": []
  }
 ],
 "metadata": {
  "kernelspec": {
   "display_name": "Python 3",
   "language": "python",
   "name": "python3"
  },
  "language_info": {
   "codemirror_mode": {
    "name": "ipython",
    "version": 3
   },
   "file_extension": ".py",
   "mimetype": "text/x-python",
   "name": "python",
   "nbconvert_exporter": "python",
   "pygments_lexer": "ipython3",
   "version": "3.5.3"
  }
 },
 "nbformat": 4,
 "nbformat_minor": 2
}
